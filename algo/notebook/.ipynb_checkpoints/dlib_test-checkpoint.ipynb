{
 "cells": [
  {
   "cell_type": "code",
   "execution_count": 15,
   "metadata": {},
   "outputs": [],
   "source": [
    "import face_recognition\n",
    "import numpy as np\n",
    "import time\n",
    "import os"
   ]
  },
  {
   "cell_type": "code",
   "execution_count": 19,
   "metadata": {},
   "outputs": [
    {
     "name": "stdout",
     "output_type": "stream",
     "text": [
      "['test_raw/AbdielARROYO_soccer/AbdielARROYO_soccer.png', 'test_raw/Aaron_Baddeley_golf/Aaron_Baddeley_golf.png', 'test_raw/AaronMOOY_soccer/AaronMOOY_soccer.png', 'test_raw/ABDALLASAID_soccer/ABDALLASAID_soccer.png', 'test_raw/Aaron_Wise_golf/Aaron_Wise_golf.png']\n",
      "['AbdielARROYO_soccer.png', 'Aaron_Baddeley_golf.png', 'AaronMOOY_soccer.png', 'ABDALLASAID_soccer.png', 'Aaron_Wise_golf.png']\n"
     ]
    }
   ],
   "source": [
    "\n",
    "\n",
    "path = 'test_raw/'\n",
    "\n",
    "files = []\n",
    "names = []\n",
    "embeddings = []\n",
    "\n",
    "# r=root, d=directories, f = files\n",
    "for r, d, f in os.walk(path):\n",
    "    for file in f:\n",
    "        if '.png' in file:\n",
    "            files.append(os.path.join(r, file))\n",
    "            names.append(file)\n",
    "            \n",
    "print(files)\n",
    "\n",
    "print(names)\n",
    "\n",
    "# start = time.time()\n",
    "# for i in range(len(files)):\n",
    "    \n",
    "#     print(\"[INFO] processing image {}/{}\".format(i + 1, len(files)))\n",
    "    \n",
    "#     image = face_recognition.load_image_file(files[i])\n",
    "#     embeddings.append(face_recognition.face_encodings(image)[0])\n",
    "\n",
    "# print(\"--- %s seconds ---\" % (time.time() - start))\n",
    "\n",
    "# np.save(\"embeddings.npy\", embeddings)\n",
    "# np.save(\"names.npy\", names)\n",
    "\n",
    "# e = np.load(\"embeddings.npy\")\n",
    "# n = np.load(\"names.npy\")\n"
   ]
  },
  {
   "cell_type": "code",
   "execution_count": 12,
   "metadata": {},
   "outputs": [
    {
     "name": "stdout",
     "output_type": "stream",
     "text": [
      "(5,)\n"
     ]
    }
   ],
   "source": [
    "print(n.shape)"
   ]
  }
 ],
 "metadata": {
  "kernelspec": {
   "display_name": "Python 3",
   "language": "python",
   "name": "python3"
  },
  "language_info": {
   "codemirror_mode": {
    "name": "ipython",
    "version": 3
   },
   "file_extension": ".py",
   "mimetype": "text/x-python",
   "name": "python",
   "nbconvert_exporter": "python",
   "pygments_lexer": "ipython3",
   "version": "3.6.8"
  }
 },
 "nbformat": 4,
 "nbformat_minor": 2
}
