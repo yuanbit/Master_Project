{
 "cells": [
  {
   "cell_type": "code",
   "execution_count": 1,
   "metadata": {},
   "outputs": [],
   "source": [
    "import matplotlib.pyplot as plt\n",
    "from matplotlib import style\n",
    "style.use('ggplot')\n",
    "import sys\n",
    "import numpy as np\n",
    "from sklearn.cluster import KMeans\n",
    "from sklearn.decomposition import PCA\n",
    "import csv\n",
    "from collections import Counter\n",
    "import matplotlib.cm as cm\n",
    "from sklearn.cluster import AgglomerativeClustering\n",
    "from itertools import chain, combinations\n",
    "import itertools"
   ]
  },
  {
   "cell_type": "code",
   "execution_count": 2,
   "metadata": {},
   "outputs": [],
   "source": [
    "embeddings = np.round(np.load(\"embeddings/test/embeddings.npy\"), decimals=6)\n",
    "t_labels = np.load(\"embeddings/test/labels.npy\")\n",
    "label_strings = np.load(\"embeddings/test/label_strings.npy\")\n",
    "\n",
    "X = np.round(embeddings, decimals=6)\n",
    "\n",
    "encoding = 'utf-8'\n",
    "# decode from byte to string\n",
    "l = [str(x, encoding) for x in label_strings]\n",
    "label_decoded = [x.replace('_', ' ') for x in l]"
   ]
  },
  {
   "cell_type": "code",
   "execution_count": 3,
   "metadata": {},
   "outputs": [],
   "source": [
    "keys = [\"tennis\", \"basketball\", \"golf\", \"fighter\", \"soccer\"]\n",
    "\n",
    "# key: category\n",
    "# value: tuple of name and index, e.g. ('Andy Murray', 0)\n",
    "labels = {k: [] for k in keys}\n",
    "\n",
    "for i in range(len(label_decoded)):\n",
    "    for k in keys:\n",
    "        if k in label_decoded[i]:\n",
    "            name = label_decoded[i].replace(k, \"\")\n",
    "            #labels[k].append((name, i))\n",
    "            labels[k].append(i)"
   ]
  },
  {
   "cell_type": "code",
   "execution_count": 4,
   "metadata": {},
   "outputs": [
    {
     "name": "stdout",
     "output_type": "stream",
     "text": [
      "[4 1 0 1 0 4 4 3 2 0 1 1 2 1 3 3 3 0 2 1 3 4 3 0 4 2 3 0 1 3 3 1 2 0 0 4 1\n",
      " 0 1 3 1 2 0 2 0 0 2 3 1 4]\n"
     ]
    }
   ],
   "source": [
    "num_clusters = 5\n",
    "\n",
    "kmeans = KMeans(n_clusters = num_clusters).fit(X)\n",
    "print(kmeans.labels_)"
   ]
  },
  {
   "cell_type": "code",
   "execution_count": 5,
   "metadata": {},
   "outputs": [
    {
     "name": "stdout",
     "output_type": "stream",
     "text": [
      "{'tennis': [0, 3, 12, 24, 27, 32, 35, 38, 46, 49], 'basketball': [6, 7, 8, 9, 18, 19, 20, 21, 22, 23], 'golf': [2, 4, 17, 33, 34, 37, 39, 42, 44, 45], 'fighter': [1, 5, 10, 11, 13, 31, 36, 40, 47, 48], 'soccer': [14, 15, 16, 25, 26, 28, 29, 30, 41, 43]}\n",
      "\n",
      "\n",
      "{4: [0, 5, 6, 21, 24, 35, 49], 1: [1, 3, 10, 11, 13, 19, 28, 31, 36, 38, 40, 48], 0: [2, 4, 9, 17, 23, 27, 33, 34, 37, 42, 44, 45], 3: [7, 14, 15, 16, 20, 22, 26, 29, 30, 39, 47], 2: [8, 12, 18, 25, 32, 41, 43, 46]}\n"
     ]
    }
   ],
   "source": [
    "# key: label\n",
    "# value: indices of images\n",
    "clusters = {}\n",
    "\n",
    "for idx, label in enumerate(kmeans.labels_):\n",
    "    if label not in clusters:\n",
    "        # The label is seen for first time, create a new list.\n",
    "        clusters[label] = [idx]\n",
    "    else:\n",
    "        clusters[label].append(idx)\n",
    "\n",
    "print(labels)\n",
    "print(\"\\n\")\n",
    "print(clusters)"
   ]
  },
  {
   "cell_type": "code",
   "execution_count": 6,
   "metadata": {},
   "outputs": [
    {
     "name": "stdout",
     "output_type": "stream",
     "text": [
      "[(1, 2), (1, 3), (2, 3)]\n"
     ]
    }
   ],
   "source": [
    "a = [1, 2, 3]\n",
    "\n",
    "print(list(itertools.combinations(a, 2)))\n"
   ]
  },
  {
   "cell_type": "code",
   "execution_count": 21,
   "metadata": {},
   "outputs": [],
   "source": [
    "# Create label pairs\n",
    "\n",
    "label_pairs = {}\n",
    "cluster_pairs = {}\n",
    "\n",
    "for key, value in labels.items():\n",
    "    label_pairs[key] = list(itertools.combinations(value, 2))\n",
    "    \n",
    "for key, value in clusters.items():\n",
    "    cluster_pairs[key] = list(itertools.combinations(value, 2))"
   ]
  },
  {
   "cell_type": "code",
   "execution_count": 27,
   "metadata": {},
   "outputs": [
    {
     "name": "stdout",
     "output_type": "stream",
     "text": [
      "[(24, 49), (0, 24), (0, 49), (24, 35), (0, 35), (35, 49)]\n"
     ]
    }
   ],
   "source": [
    "a = label_pairs['tennis']\n",
    "b = cluster_pairs[4]\n",
    "\n",
    "true_positive = list(set(a).intersection(b))\n",
    "false_positive = list(set(a) - set(b))\n",
    "false_negative = list(set(a) - set(b))\n",
    "\n",
    "print(true_positive)\n"
   ]
  },
  {
   "cell_type": "code",
   "execution_count": 9,
   "metadata": {},
   "outputs": [],
   "source": [
    "# tmp_true_labels = labels['basketball']\n",
    "# tmp_clusters = clusters[2]\n",
    "\n",
    "# print(tmp_true_labels)\n",
    "# print(\"\\n\")\n",
    "# #print(tmp_clusters)\n",
    "\n",
    "# label_assignment = {k: [] for k in keys}\n",
    "\n",
    "# for i in range(num_clusters):\n",
    "#     for k in keys:\n",
    "#         label_assignment[k].append(len(list(set(labels[k]).intersection(clusters[i]))))\n",
    "                                   \n",
    "# print(label_assignment)"
   ]
  },
  {
   "cell_type": "code",
   "execution_count": 10,
   "metadata": {},
   "outputs": [],
   "source": [
    "# # F-Measure\n",
    "# true_positive = list(set(tmp_true_labels).intersection(tmp_clusters))\n",
    "# false_positive = list(set(tmp_clusters) - set(tmp_true_labels))\n",
    "# false_negative = list(set(tmp_true_labels) - set(tmp_clusters))\n",
    "\n",
    "# TP_names = []\n",
    "# FP_names = []\n",
    "# FN_names = []\n",
    "\n",
    "# for i in true_positive:\n",
    "#     TP_names.append(label_decoded[i])\n",
    "    \n",
    "# for i in false_positive:\n",
    "#     FP_names.append(label_decoded[i])\n",
    "    \n",
    "# for i in false_negative:\n",
    "#     FN_names.append(label_decoded[i])"
   ]
  },
  {
   "cell_type": "code",
   "execution_count": 11,
   "metadata": {},
   "outputs": [],
   "source": [
    "# print(TP_names)\n",
    "# print(\"\\n\")\n",
    "# print(FP_names)\n",
    "# print(\"\\n\")\n",
    "# print(FN_names)"
   ]
  },
  {
   "cell_type": "code",
   "execution_count": 12,
   "metadata": {},
   "outputs": [],
   "source": [
    "# TP = len(true_positive)\n",
    "# FP = len(false_positive)\n",
    "# FN = len(false_negative)\n",
    "\n",
    "# precision = TP/(TP+FP)\n",
    "# print(precision)\n",
    "# recall = TP/(TP+FN)\n",
    "# print(recall)\n",
    "# f_measure = 2*((precision*recall)/(precision+recall))\n",
    "# print(f_measure)"
   ]
  },
  {
   "cell_type": "code",
   "execution_count": 13,
   "metadata": {},
   "outputs": [],
   "source": [
    "# clustering = AgglomerativeClustering(n_clusters=5, distance_threshold=None).fit(X)\n",
    "# print(clustering.labels_)"
   ]
  },
  {
   "cell_type": "code",
   "execution_count": 14,
   "metadata": {},
   "outputs": [],
   "source": [
    "# pca = PCA(n_components=2)\n",
    "# principalComponents = pca.fit_transform(X)\n",
    "# reduced_centroids = pca.fit_transform(kmeans.cluster_centers_)"
   ]
  },
  {
   "cell_type": "code",
   "execution_count": 15,
   "metadata": {},
   "outputs": [],
   "source": [
    "# colors = [\"#ffe119\", \"#f032e6\", \"#9A6324\", \"#3cb44b\", \"#e6194B\", \"#f58231\", \"#ffe119\", \"#469990\", \"#42d4f4\", \"#4363d8\", \"#911eb4\"]\n",
    "\n",
    "# # plt.scatter(X[:,0], X[:,1], s=5)\n",
    "\n",
    "# for i in kmeans.labels_:\n",
    "#     color = colors[i]\n",
    "#     for feature in principalComponents[kmeans.labels_ == i]:\n",
    "#         plt.scatter(feature[0], feature[1], marker=\"x\", color=color, s=5, linewidths=5)\n",
    "#     plt.scatter(reduced_centroids[i][0], reduced_centroids[i][1], marker=\"o\", color=color, edgecolors='black',  s=30, linewidths=1)\n",
    "\n",
    "# plt.show()"
   ]
  }
 ],
 "metadata": {
  "kernelspec": {
   "display_name": "Python 3",
   "language": "python",
   "name": "python3"
  },
  "language_info": {
   "codemirror_mode": {
    "name": "ipython",
    "version": 3
   },
   "file_extension": ".py",
   "mimetype": "text/x-python",
   "name": "python",
   "nbconvert_exporter": "python",
   "pygments_lexer": "ipython3",
   "version": "3.6.8"
  }
 },
 "nbformat": 4,
 "nbformat_minor": 2
}
